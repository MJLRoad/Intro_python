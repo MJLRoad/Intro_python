{
 "cells": [
  {
   "attachments": {},
   "cell_type": "markdown",
   "metadata": {},
   "source": [
    "# Repetición, condicionales y listas"
   ]
  },
  {
   "attachments": {},
   "cell_type": "markdown",
   "metadata": {},
   "source": [
    "## 2.1 Controlando programas con \"if\" y \"while\""
   ]
  },
  {
   "attachments": {},
   "cell_type": "markdown",
   "metadata": {},
   "source": [
    "Una característica importante de las computadoras es su capacidad para romper el flujo lineal de un programa, saltar alrededor del programa, ejecutar algunas líneas pero no otras, o tomar decisiones sobre qué hacer a continuación en función de criterios dados. En esta sección veremos cómo se hace esto en el lenguaje Python."
   ]
  },
  {
   "attachments": {},
   "cell_type": "markdown",
   "metadata": {},
   "source": [
    "### 2.1.1 La declaración \"if\""
   ]
  },
  {
   "attachments": {},
   "cell_type": "markdown",
   "metadata": {},
   "source": [
    "Sucederá a menudo en nuestros programas de computadora que queremos hacer algo solo si se cumple una determinada condición. Podemos hacer esto usando una declaración <code>if</code>. Considere el siguiente ejemplo:"
   ]
  },
  {
   "cell_type": "code",
   "execution_count": null,
   "metadata": {},
   "outputs": [],
   "source": [
    "#Correr este programa con dos valores, uno que cumpla la condición y otro que no\n",
    "x = int(input(\"Introduce un número entero que no sea mayor a diez: \"))\n",
    "if x>10:\n",
    "    print(\"Tecleaste un número mayor a diez.\")\n",
    "    print(\"Deja que lo arregle.\")\n",
    "    x = 10\n",
    "print(\"Tu número es\", x)"
   ]
  },
  {
   "attachments": {},
   "cell_type": "markdown",
   "metadata": {},
   "source": [
    "Nótese que las tres lineas después de la condición <code>if</code> están indentadas. De esta manera le decimos al programa qué instrucciones son parte de la condición (y se van a ejecutar cuando esta se cumpla). Ya sea que se cumpla o no la condición, la computadora se mueve a la siguiente linea del programa, la cual imprime el valor de <code>x</code>."
   ]
  },
  {
   "attachments": {},
   "cell_type": "markdown",
   "metadata": {},
   "source": [
    "Hay varios tipos de condiciones que podemos usar en una declaración <code>if</code>. Algunos ejemplos:\n",
    "* <code>if x == 1</code> (verifica si $x = 1$)\n",
    "* <code>if x > 1</code> (verifica si $x > 1$)\n",
    "* <code>if x >= 1</code> (verifica si $x \\ge 1$)\n",
    "* <code>if x < 1</code> (verifica si $x < 1$)\n",
    "* <code>if x <= 1</code> (verifica si $x \\le 1$)\n",
    "* <code>if x != 1</code> (verifica si $x \\neq 1$)\n",
    "\n",
    "También podemos combinar dos condiciones en una declaración <code>if</code> sencilla, tal como"
   ]
  },
  {
   "cell_type": "code",
   "execution_count": null,
   "metadata": {},
   "outputs": [],
   "source": [
    "x = int(input(\"x: \"))\n",
    "\n",
    "if x>10 or x<1:\n",
    "    print(\"Tu número es demasiado grande o demasiado pequeño\")"
   ]
  },
  {
   "cell_type": "code",
   "execution_count": null,
   "metadata": {},
   "outputs": [],
   "source": [
    "x = int(input(\"x: \"))\n",
    "\n",
    "if x<=10 and x>=1:\n",
    "    print (\"Tu número es correcto\")"
   ]
  },
  {
   "attachments": {},
   "cell_type": "markdown",
   "metadata": {},
   "source": [
    "También podemos combinar más de dos criterios en una línea."
   ]
  },
  {
   "attachments": {},
   "cell_type": "markdown",
   "metadata": {},
   "source": [
    "Dos elaboraciones adicionales útiles de la instrucción <code>if</code> son <code>else</code> y <code>elif</code> (<i>else if</i>):"
   ]
  },
  {
   "cell_type": "code",
   "execution_count": null,
   "metadata": {},
   "outputs": [],
   "source": [
    "x = int(input(\"x: \"))\n",
    "if x>10:\n",
    "    print(\"Tu número es mayor a 10\")\n",
    "elif x>9:\n",
    "    print(\"Tu número está bien, pero muy apenas.\")\n",
    "elif x >= 8:\n",
    "    print(\"Tu número está bien\")\n",
    "else:\n",
    "    print (\"Tu número está muy bien, continúa.\")"
   ]
  },
  {
   "attachments": {},
   "cell_type": "markdown",
   "metadata": {},
   "source": [
    "Podemos incluir más de una instrucción <code>elif</code>, cada una probando una condición diferente si la condición previa no se cumplió."
   ]
  },
  {
   "attachments": {},
   "cell_type": "markdown",
   "metadata": {},
   "source": [
    "### 2.1.2 La instrucción \"while\""
   ]
  },
  {
   "attachments": {},
   "cell_type": "markdown",
   "metadata": {},
   "source": [
    "Una variación útil de la sentencia <code>if</code> es la sentencia <code>while</code>. Se ve y se comporta de manera similar a la declaración <code>if</code>:"
   ]
  },
  {
   "cell_type": "code",
   "execution_count": 3,
   "metadata": {},
   "outputs": [
    {
     "name": "stdout",
     "output_type": "stream",
     "text": [
      "Esto es mayor que diez. Por favor intente de nuevo. \n",
      "Tu número es 10\n"
     ]
    }
   ],
   "source": [
    "x = int(input(\"Ingrese un número entero que no sea mayor a diez: \"))\n",
    "while x>10:\n",
    "    print (\"Esto es mayor que diez. Por favor intente de nuevo. \")\n",
    "    x = int(input(\"Ingrese un número entero que no sea mayor a diez: \"))\n",
    "print(\"Tu número es\",x)"
   ]
  },
  {
   "attachments": {},
   "cell_type": "markdown",
   "metadata": {},
   "source": [
    "La diferencia con la sentencia <code>if</code> es que, si se cumple la condición y se ejecuta el bloque, el programa se moverá desde el fin del bloque hacia el inicio y verificará otra vez la condición (y lo segirá heciendo hasta que la condición sea falsa). La sentencia <code>while</code> puede ser seguida por una sentencia <code>else</code>, la cual se ejecuta una sola vez cuando la condición en la sentencia <code>while</code> falla. "
   ]
  },
  {
   "attachments": {},
   "cell_type": "markdown",
   "metadata": {},
   "source": [
    "### 2.1.3 \"break\" y \"continue\""
   ]
  },
  {
   "attachments": {},
   "cell_type": "markdown",
   "metadata": {},
   "source": [
    "Dos refinamientos útiles de la sentencia <code>while</code> son las sentencias <code>break</code> y <code>continue</code>. La sentencia <code>break</code> nos permite salir de un bucle incluso si no se cumple la condición de la sentencia <code>continue</code>. Por ejemplo,"
   ]
  },
  {
   "cell_type": "code",
   "execution_count": null,
   "metadata": {},
   "outputs": [],
   "source": [
    "x = int(input(\"Ingrese un número entero que no sea mayor a diez: \"))\n",
    "\n",
    "while x>10:\n",
    "    print (\"Esto es mayor que diez. Por favor intente de nuevo. \")\n",
    "    x = int(input(\"Ingrese un número entero que no sea mayor a diez: \"))\n",
    "    if x == 111: \n",
    "        break\n",
    "print(\"Tu número es\",x)"
   ]
  },
  {
   "attachments": {},
   "cell_type": "markdown",
   "metadata": {},
   "source": [
    "Si el bucle <code>while</code> va seguido de una sentencia <code>else</code>, la sentencia <code>else</code> no se ejecuta después de ejecutarse una sentencia <code>break</code>."
   ]
  },
  {
   "cell_type": "code",
   "execution_count": 7,
   "metadata": {},
   "outputs": [
    {
     "name": "stdout",
     "output_type": "stream",
     "text": [
      "Esto es mayor que diez. Por favor intente de nuevo. \n",
      "Tu número es 34\n",
      "Esto es mayor que diez. Por favor intente de nuevo. \n",
      "Tu número es 34\n",
      "Esto es mayor que diez. Por favor intente de nuevo. \n",
      "Tu número es 56\n",
      "Esto es mayor que diez. Por favor intente de nuevo. \n",
      "Tu número es 67\n",
      "Esto es mayor que diez. Por favor intente de nuevo. \n"
     ]
    }
   ],
   "source": [
    "x = int(input(\"Ingrese un número entero que no sea mayor a diez: \"))\n",
    "\n",
    "while x>10:\n",
    "    print (\"Esto es mayor que diez. Por favor intente de nuevo. \")\n",
    "    x = int(input(\"Ingrese un número entero que no sea mayor a diez: \"))\n",
    "    if x == 111: \n",
    "        break\n",
    "    else:\n",
    "        print(\"Tu número es\",x)"
   ]
  },
  {
   "attachments": {},
   "cell_type": "markdown",
   "metadata": {},
   "source": [
    "Una variante de la idea de la sentencia break es la sentencia continue,"
   ]
  },
  {
   "cell_type": "code",
   "execution_count": 14,
   "metadata": {},
   "outputs": [
    {
     "name": "stdout",
     "output_type": "stream",
     "text": [
      "223 is greater than ten. Please try again.\n"
     ]
    }
   ],
   "source": [
    "x = int(input(\"Ingrese un número entero que no sea mayor a diez: \"))\n",
    "\n",
    "while x>10:\n",
    "    if x == 222:\n",
    "        x += 1\n",
    "        continue\n",
    "    print(f\"{x} es mayor que diez. Por favor intente de nuevo.\")\n",
    "    x = int(input(\"Ingrese un número entero que no sea mayor a diez: \"))\n",
    "    if x == 111: \n",
    "        break\n",
    "else:\n",
    "    print(f\"x = {x}\")"
   ]
  },
  {
   "attachments": {},
   "cell_type": "markdown",
   "metadata": {},
   "source": [
    "## 2.2 Listas y arreglos"
   ]
  },
  {
   "attachments": {},
   "cell_type": "markdown",
   "metadata": {},
   "source": [
    "En física es común que una variable represente varios números a la vez (p. ej. vectores y matrices). También hay muchos casos en los que tenemos un conjunto de números que nos gustaría tratar como una sola entidad, incluso si no forman un vector o una matriz (p. ej. cuando queremos registrar cien mediciones de alguna cantidad).\n",
    "\n",
    "Situaciones como estas son tan comunes que Python proporciona características estándar, llamadas <i>contenedores</i>, para almacenar colecciones de números."
   ]
  },
  {
   "attachments": {},
   "cell_type": "markdown",
   "metadata": {},
   "source": [
    "### 2.2.1 Listas"
   ]
  },
  {
   "attachments": {},
   "cell_type": "markdown",
   "metadata": {},
   "source": [
    "El tipo de contenedor más básico en Python es la <i>lista</i>. Un ejemplo:"
   ]
  },
  {
   "cell_type": "code",
   "execution_count": 15,
   "metadata": {},
   "outputs": [],
   "source": [
    "nb_list = [3, 0, 0, -7, 24]"
   ]
  },
  {
   "attachments": {},
   "cell_type": "markdown",
   "metadata": {},
   "source": [
    "Las cantidades de una lista, que se denominan <i>elementos</i>, no tienen por qué ser todas del mismo tipo:"
   ]
  },
  {
   "cell_type": "code",
   "execution_count": null,
   "metadata": {},
   "outputs": [],
   "source": [
    "miscelaneous_list = [1, 3+2j, 1.0, \"chicharrones de capibara\"]\n",
    "print(miscelaneous_list)"
   ]
  },
  {
   "attachments": {},
   "cell_type": "markdown",
   "metadata": {},
   "source": [
    "Sin embargo, en la mayoría de los casos, los elementos de una lista van a ser del mismo tipo."
   ]
  },
  {
   "attachments": {},
   "cell_type": "markdown",
   "metadata": {},
   "source": [
    "Los elementos de una lista se pueden especificar usando otras variables, por ejemplo,"
   ]
  },
  {
   "cell_type": "code",
   "execution_count": 17,
   "metadata": {},
   "outputs": [],
   "source": [
    "from math import sqrt\n",
    "\n",
    "x = 1.0\n",
    "y = 2.0\n",
    "z = -4.5\n",
    "r = [x,y,z]"
   ]
  },
  {
   "cell_type": "code",
   "execution_count": null,
   "metadata": {},
   "outputs": [],
   "source": [
    "r"
   ]
  },
  {
   "attachments": {},
   "cell_type": "markdown",
   "metadata": {},
   "source": [
    "Los elementos de las listas también se pueden calcular a partir de expresiones matemáticas completas, como esta:"
   ]
  },
  {
   "cell_type": "code",
   "execution_count": null,
   "metadata": {},
   "outputs": [],
   "source": [
    "vector_field =  [ 2*x, x+y, z/sqrt(x**2+y**2) ]\n",
    "vector_field"
   ]
  },
  {
   "attachments": {},
   "cell_type": "markdown",
   "metadata": {},
   "source": [
    "Hay qué tener en cuenta que las listas definidas a través de variables o expresiones matemáticas no se actualizan automáticamente al actualizar las variables. Por ejemplo,"
   ]
  },
  {
   "cell_type": "code",
   "execution_count": null,
   "metadata": {},
   "outputs": [],
   "source": [
    "#antes de actualizar variables\n",
    "print(r)\n",
    "print(vector_field)"
   ]
  },
  {
   "cell_type": "code",
   "execution_count": null,
   "metadata": {},
   "outputs": [],
   "source": [
    "x += 1.0\n",
    "y += 1.0\n",
    "z += 1.0\n",
    "#después de actualizar variables\n",
    "print(r)\n",
    "print(vector_field)"
   ]
  },
  {
   "cell_type": "code",
   "execution_count": null,
   "metadata": {},
   "outputs": [],
   "source": [
    "#hay qué actualizar explícitamente las listas\n",
    "r = [x,y,z]\n",
    "vector_field =  [ 2*x, x+y, z/sqrt(x**2+y**2) ]\n",
    "print(r)\n",
    "print(vector_field)"
   ]
  },
  {
   "attachments": {},
   "cell_type": "markdown",
   "metadata": {},
   "source": [
    "Una vez que hayamos creado una lista, probablemente queramos hacer algunos cálculos con los elementos que contiene. Los elementos individuales en una lista <code>r</code> se denotan como <code>r[0]</code>, <code>r[1]</code>, <code>r[2]</code>, y  así (en Python, los índices empiezan en cero, no en 1). Los elementos individuales se comportan como variables y se pueden usar como tal. A continuación se muestra un programa que calcula la longitud de un vector:"
   ]
  },
  {
   "cell_type": "code",
   "execution_count": null,
   "metadata": {},
   "outputs": [],
   "source": [
    "from math import sqrt\n",
    "r = [ 1.0, 1.5, -2.2 ]\n",
    "length= sqrt( r[0]**2 + r[1]**2 + r[2]**2)\n",
    "print(length)"
   ]
  },
  {
   "attachments": {},
   "cell_type": "markdown",
   "metadata": {},
   "source": [
    "Podemos cambiar los valores de los elementos individuales de una lista en cualquier momento, así:"
   ]
  },
  {
   "cell_type": "code",
   "execution_count": null,
   "metadata": {},
   "outputs": [],
   "source": [
    "r = [ 1.0, 1.5, -2.2 ]\n",
    "r[1] = 3.5\n",
    "print(r)"
   ]
  },
  {
   "attachments": {},
   "cell_type": "markdown",
   "metadata": {},
   "source": [
    "Una característica poderosa y útil de Python es su capacidad para realizar operaciones en listas completas a la vez."
   ]
  },
  {
   "cell_type": "code",
   "execution_count": null,
   "metadata": {},
   "outputs": [],
   "source": [
    "r = [ 1.0, 1.5, -2.2 ]\n",
    "print(f\"Sum = {sum(r)}\")\n",
    "print(f\"Length = {len(r)}\")\n",
    "print(f\"Mean = {sum(r)/len(r)}\")\n"
   ]
  },
  {
   "attachments": {},
   "cell_type": "markdown",
   "metadata": {},
   "source": [
    "Una función especialmente útil para las listas es la función <code>map</code>, que es una especie de metafunción: permite aplicar funciones ordinarias, como <code>log</code> o <code>sqrt</code>, a todos los elementos de una lista a la vez."
   ]
  },
  {
   "cell_type": "code",
   "execution_count": null,
   "metadata": {},
   "outputs": [],
   "source": [
    "from math import log\n",
    "\n",
    "v = [30.0, 50.0, 13.0]\n",
    "logv = list(map(log,v)) #map crea un objeto especializado en la memoria, llamado \"iterador\"\n",
    "#transformamos el iterador en una lista\n",
    "print(logv)"
   ]
  },
  {
   "cell_type": "markdown",
   "metadata": {},
   "source": [
    "Una forma alternativa de mapear una función sobre una lista es con lo que en *python* se conoce como *list comprehension*,"
   ]
  },
  {
   "cell_type": "code",
   "execution_count": null,
   "metadata": {},
   "outputs": [],
   "source": [
    "logv = [log(element,10) for element in v]\n",
    "logv"
   ]
  },
  {
   "attachments": {},
   "cell_type": "markdown",
   "metadata": {},
   "source": [
    "Otra característica de las listas en Python, que usaremos con frecuencia, es la capacidad de agregar o quitar elementos a una lista ya existente."
   ]
  },
  {
   "cell_type": "code",
   "execution_count": null,
   "metadata": {},
   "outputs": [],
   "source": [
    "r = [ 1.0, 1.5, -2.2 ]\n",
    "r.append(6.1)\n",
    "print(r)"
   ]
  },
  {
   "cell_type": "code",
   "execution_count": null,
   "metadata": {},
   "outputs": [],
   "source": [
    "r.sort() # ordena la lista\n",
    "r"
   ]
  },
  {
   "cell_type": "code",
   "execution_count": null,
   "metadata": {},
   "outputs": [],
   "source": [
    "r.pop()\n",
    "print(r)"
   ]
  },
  {
   "cell_type": "code",
   "execution_count": null,
   "metadata": {},
   "outputs": [],
   "source": [
    "r.pop(1)\n",
    "print(r)"
   ]
  },
  {
   "attachments": {},
   "cell_type": "markdown",
   "metadata": {},
   "source": [
    "### 2.2.2 Arreglos"
   ]
  },
  {
   "attachments": {},
   "cell_type": "markdown",
   "metadata": {},
   "source": [
    "Un arreglo también es un conjunto ordenado de valores, pero existen algunas diferencias importantes entre las listas y los arreglos:\n",
    "* El número de elementos en un arreglo es fijo\n",
    "* Los elementos de un arreglo son del mismo tipo, y no se puede cambiar una vez que se crea el arreglo\n",
    "\n",
    "Las listas, como hemos visto, no tienen ninguna de estas restricciones y, a primera vista, parecen ser inconvenientes significativos del arreglo. Aun así, los areglos también tienen ventajas significativas sobre las listas:\n",
    "* Los arreglos pueden tener dos o más dimensiones\n",
    "* Los arreglos se comportan más o menos como vectores o matrices: puede hacer aritmética con ellos, como sumarlos, y obtendrá el resultado que espera. Esto no es cierto con las listas.\n",
    "* Los arreglos funcionan más rápido que las listas, sobre todo si se tiene un arreglo con muchos elementos.\n",
    "\n",
    "En física sucede a menudo que estamos trabajando con un número fijo de elementos todos del mismo tipo, como cuando estamos trabajando con matrices o vectores, por ejemplo. En ese caso, los arreglos son claramente la herramienta preferida."
   ]
  },
  {
   "cell_type": "code",
   "execution_count": 34,
   "metadata": {},
   "outputs": [],
   "source": [
    "import numpy as np"
   ]
  },
  {
   "attachments": {},
   "cell_type": "markdown",
   "metadata": {},
   "source": [
    "En el caso más simple, podemos crear un arreglo unidimensional con $n$ elementos, todos los cuales son inicialmente iguales a cero, utilizando la función <code>zeros</code> del paquete <code>numpy</code>,"
   ]
  },
  {
   "cell_type": "code",
   "execution_count": null,
   "metadata": {},
   "outputs": [],
   "source": [
    "from numpy import zeros\n",
    "\n",
    "a = zeros(4,int)\n",
    "print(a)"
   ]
  },
  {
   "attachments": {},
   "cell_type": "markdown",
   "metadata": {},
   "source": [
    "El tamaño de los arreglos que podemos crear está limitado solamente por la memoria de la computadora que hay disponible para almacenarlos.\n",
    "\n",
    "Para crear un arreglo bidimensional de punto flotante con $m$ filas y $n$ columnas, ejecutamos"
   ]
  },
  {
   "cell_type": "code",
   "execution_count": null,
   "metadata": {},
   "outputs": [],
   "source": [
    "a = zeros([3,4] ,int)\n",
    "print(a)"
   ]
  },
  {
   "cell_type": "code",
   "execution_count": 38,
   "metadata": {},
   "outputs": [],
   "source": [
    "tensor = zeros([2,2,2], int)\n",
    "print(tensor)"
   ]
  },
  {
   "attachments": {},
   "cell_type": "markdown",
   "metadata": {},
   "source": [
    "También hay una función similar en numpy llamada <code>ones</code> que crea una matriz con todos los elementos iguales a uno. La forma de la función es exactamente la misma que para la función <code>zeros</code>, solo los valores en la matriz son diferentes."
   ]
  },
  {
   "attachments": {},
   "cell_type": "markdown",
   "metadata": {},
   "source": [
    "## 2.3 El bucle \"for\""
   ]
  },
  {
   "attachments": {},
   "cell_type": "markdown",
   "metadata": {},
   "source": [
    "Existe otra construcción de bucle mucho más utilizada en el lenguaje Python, el bucle <code>for</code>. Un bucle <code>for</code> es un bucle que se ejecuta a través de los elementos de una lista o matriz en turno. Considere este breve ejemplo:"
   ]
  },
  {
   "cell_type": "code",
   "execution_count": null,
   "metadata": {},
   "outputs": [],
   "source": [
    "r = [ 1, 3, 5]\n",
    "for _ in r:\n",
    "    print(_)\n",
    "    print(2*_, \"\\n\")\n",
    "print(\"Finished\")"
   ]
  },
  {
   "cell_type": "code",
   "execution_count": null,
   "metadata": {},
   "outputs": [],
   "source": [
    "for i in range(10):\n",
    "    #if i == 5:\n",
    "    #    break\n",
    "    print(i)"
   ]
  },
  {
   "attachments": {},
   "cell_type": "markdown",
   "metadata": {},
   "source": [
    "Las declaraciones <code>break</code> y <code>continue</code> se pueden usar con bucles <code>for</code>  de la misma manera que se usan con bucles <code>while</code>.\n",
    "\n",
    "El uso más común del ciclo <code>for</code> es simplemente ejecutar un fragmento de código determinado un número específico de veces, como diez, digamos, o un millón. Para lograr esto, Python proporciona una función especial integrada llamada <code>range</code>,"
   ]
  },
  {
   "cell_type": "code",
   "execution_count": null,
   "metadata": {},
   "outputs": [],
   "source": [
    "for i in range(5): #la función range crea un iterador\n",
    "    print(i)"
   ]
  },
  {
   "cell_type": "code",
   "execution_count": null,
   "metadata": {},
   "outputs": [],
   "source": [
    "r = range(3)\n",
    "for i in r:\n",
    "    print(\"Hola de nuevo\")"
   ]
  },
  {
   "cell_type": "code",
   "execution_count": null,
   "metadata": {},
   "outputs": [],
   "source": [
    "for n in range(5):\n",
    "    print(n**2)"
   ]
  },
  {
   "cell_type": "code",
   "execution_count": null,
   "metadata": {},
   "outputs": [],
   "source": [
    "list(range(2,8))"
   ]
  },
  {
   "cell_type": "code",
   "execution_count": null,
   "metadata": {},
   "outputs": [],
   "source": [
    "list(range(2,20,3))"
   ]
  },
  {
   "cell_type": "code",
   "execution_count": null,
   "metadata": {},
   "outputs": [],
   "source": [
    "list(range(20,2,-3))"
   ]
  },
  {
   "cell_type": "code",
   "execution_count": 49,
   "metadata": {},
   "outputs": [
    {
     "data": {
      "text/plain": [
       "[]"
      ]
     },
     "execution_count": 49,
     "metadata": {},
     "output_type": "execute_result"
    }
   ],
   "source": [
    "list(range(2,20,-3))"
   ]
  },
  {
   "attachments": {},
   "cell_type": "markdown",
   "metadata": {},
   "source": [
    "Otra función útil es la función <code>arange</code> del paquete <code>numpy</code>, que es similar a <code>range</code> pero genera matrices, en lugar de listas o iteradores y, lo que es más importante, también funciona con argumentos de punto flotante."
   ]
  },
  {
   "cell_type": "code",
   "execution_count": 50,
   "metadata": {},
   "outputs": [],
   "source": [
    "import numpy as np"
   ]
  },
  {
   "cell_type": "code",
   "execution_count": null,
   "metadata": {},
   "outputs": [],
   "source": [
    "np.arange(2,8,2)"
   ]
  },
  {
   "cell_type": "code",
   "execution_count": null,
   "metadata": {},
   "outputs": [],
   "source": [
    "np.arange(2.0,2.8,0.2)"
   ]
  },
  {
   "attachments": {},
   "cell_type": "markdown",
   "metadata": {},
   "source": [
    "Otra función similar es la función <code>linspace</code>, también del paquete <code>numpy</code>, que genera un arreglo con un número dado de valores de coma flotante entre límites dados."
   ]
  },
  {
   "cell_type": "code",
   "execution_count": null,
   "metadata": {},
   "outputs": [],
   "source": [
    "np.linspace (2.0, 2.8, 5)"
   ]
  },
  {
   "cell_type": "code",
   "execution_count": null,
   "metadata": {},
   "outputs": [],
   "source": [
    "np.linspace(2.0,2.8,3)"
   ]
  },
  {
   "cell_type": "code",
   "execution_count": null,
   "metadata": {},
   "outputs": [],
   "source": [
    "np.linspace(3,10,8, dtype=int)"
   ]
  },
  {
   "attachments": {},
   "cell_type": "markdown",
   "metadata": {},
   "source": [
    "## 2.4 Funciones definidas por el usuario"
   ]
  },
  {
   "cell_type": "code",
   "execution_count": 56,
   "metadata": {},
   "outputs": [],
   "source": [
    "def squared(x):\n",
    "    result = x**2\n",
    "    return result"
   ]
  },
  {
   "cell_type": "code",
   "execution_count": null,
   "metadata": {},
   "outputs": [],
   "source": [
    "squared(5.0+4.0j)"
   ]
  },
  {
   "cell_type": "code",
   "execution_count": 61,
   "metadata": {},
   "outputs": [],
   "source": [
    "def y(t, v0, y0, a):\n",
    "    result = y0 + v0*t + (1/2)*a*t**2\n",
    "    return result"
   ]
  },
  {
   "cell_type": "code",
   "execution_count": 62,
   "metadata": {},
   "outputs": [
    {
     "data": {
      "text/plain": [
       "-190.00000000000006"
      ]
     },
     "execution_count": 62,
     "metadata": {},
     "output_type": "execute_result"
    }
   ],
   "source": [
    "y(10, 30, 0, -9.8)"
   ]
  },
  {
   "cell_type": "code",
   "execution_count": 63,
   "metadata": {},
   "outputs": [
    {
     "data": {
      "text/plain": [
       "-190.00000000000006"
      ]
     },
     "execution_count": 63,
     "metadata": {},
     "output_type": "execute_result"
    }
   ],
   "source": [
    "y(a=-9.8, v0=30, y0=0, t=10)"
   ]
  },
  {
   "cell_type": "markdown",
   "metadata": {},
   "source": [
    "Variables globales y locales,"
   ]
  },
  {
   "cell_type": "code",
   "execution_count": 1,
   "metadata": {},
   "outputs": [],
   "source": [
    "def a_polynomial(x):\n",
    "    a,b,c = 1,2,3\n",
    "    return a*x**2 + b*x + c"
   ]
  },
  {
   "cell_type": "code",
   "execution_count": null,
   "metadata": {},
   "outputs": [],
   "source": [
    "print(a)"
   ]
  },
  {
   "cell_type": "code",
   "execution_count": 3,
   "metadata": {},
   "outputs": [
    {
     "name": "stdout",
     "output_type": "stream",
     "text": [
      "18\n"
     ]
    }
   ],
   "source": [
    "print(a_polynomial(3))"
   ]
  },
  {
   "cell_type": "code",
   "execution_count": 6,
   "metadata": {},
   "outputs": [],
   "source": [
    "a,b,c = 2,3,4\n",
    "def another_polynomial(x):\n",
    "    global a,b,c\n",
    "    return a*x**2 + b*x + c"
   ]
  },
  {
   "cell_type": "code",
   "execution_count": 7,
   "metadata": {},
   "outputs": [
    {
     "name": "stdout",
     "output_type": "stream",
     "text": [
      "31\n"
     ]
    }
   ],
   "source": [
    "print(another_polynomial(3))"
   ]
  },
  {
   "cell_type": "code",
   "execution_count": null,
   "metadata": {},
   "outputs": [],
   "source": []
  }
 ],
 "metadata": {
  "kernelspec": {
   "display_name": ".venv",
   "language": "python",
   "name": "python3"
  },
  "language_info": {
   "codemirror_mode": {
    "name": "ipython",
    "version": 3
   },
   "file_extension": ".py",
   "mimetype": "text/x-python",
   "name": "python",
   "nbconvert_exporter": "python",
   "pygments_lexer": "ipython3",
   "version": "3.11.2"
  },
  "orig_nbformat": 4
 },
 "nbformat": 4,
 "nbformat_minor": 2
}
