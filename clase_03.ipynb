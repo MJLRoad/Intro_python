{
 "cells": [
  {
   "attachments": {},
   "cell_type": "markdown",
   "metadata": {},
   "source": [
    "# Ejercicios"
   ]
  },
  {
   "attachments": {},
   "cell_type": "markdown",
   "metadata": {},
   "source": [
    "### Ejercicio 2.1\n",
    "Escriba un programa para calcular la probabilidad de obtener una suma igual a \"s\" al lanzar dos dados."
   ]
  },
  {
   "attachments": {},
   "cell_type": "markdown",
   "metadata": {},
   "source": [
    "### Ejercicio 2.2\n",
    "Escriba un programa que determine cuántos \"quarters\", \"dimes\", \"nickels\" y \"pennies\" se requieren para devolver un cierto cambio en dólares (1 quarter = 25 centavos, 1 dime = 10 centavos, 1 nickel = 5 centavos y 1 penny = 1 centavo)"
   ]
  },
  {
   "attachments": {},
   "cell_type": "markdown",
   "metadata": {},
   "source": [
    "### Ejercicio 2.3\n",
    "Escriba un programa que estime el valor de la constante $\\pi$ por el método de Monte-Carlo (nota: El método de Monte Carlo para aproximar el valor de $\\pi$ consiste en dibujar un cuadrado, y luego dibujar un círculo inscrito en este. Luego se dibujan puntos de manera aleatoria sobre la superficie dibujada) "
   ]
  },
  {
   "cell_type": "markdown",
   "metadata": {},
   "source": [
    "### Ejercicio 2.4"
   ]
  },
  {
   "cell_type": "markdown",
   "metadata": {},
   "source": [
    "Los números de Catalan $C_n$ son una secuencia de enteros 1,1,2,5,14,42,132... que juegan un papel importante en la mecánica cuántica y en la teoría de los sistemas desordenados. Están dados por\n",
    "\n",
    "$$\n",
    "C_0 = 1, C_{n+1} = \\frac{4n+2}{n+2}C_n\n",
    "$$\n",
    "\n",
    "Escriba un programa que imprima en orden creciente todos los números de Catalan que sean menor o igual a mil millones."
   ]
  },
  {
   "cell_type": "markdown",
   "metadata": {},
   "source": [
    "### Ejercicio 2.5"
   ]
  },
  {
   "cell_type": "markdown",
   "metadata": {},
   "source": [
    "a) Cree una función para obtener el coeficiente binomial de acuerdo a la fórmula\n",
    "\n",
    "$$\n",
    "\\binom{n}{k} = \\frac{n!}{k!\\left( n-k \\right)!} = \\frac{n\\cdot \\left( n-1 \\right)\\cdot \\left( n-2 \\right)\\cdots  \\left( n-k+1 \\right)}{1\\cdot 2\\cdots k}\n",
    "$$\n",
    "\n",
    "b) Imprima diez renglones del triángulo de Pascal con ayuda de la función que definió en el inciso anterior."
   ]
  }
 ],
 "metadata": {
  "kernelspec": {
   "display_name": ".venv",
   "language": "python",
   "name": "python3"
  },
  "language_info": {
   "codemirror_mode": {
    "name": "ipython",
    "version": 3
   },
   "file_extension": ".py",
   "mimetype": "text/x-python",
   "name": "python",
   "nbconvert_exporter": "python",
   "pygments_lexer": "ipython3",
   "version": "3.11.2"
  },
  "orig_nbformat": 4
 },
 "nbformat": 4,
 "nbformat_minor": 2
}
