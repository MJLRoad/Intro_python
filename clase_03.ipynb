{
 "cells": [
  {
   "attachments": {},
   "cell_type": "markdown",
   "metadata": {},
   "source": [
    "# Ejercicios"
   ]
  },
  {
   "attachments": {},
   "cell_type": "markdown",
   "metadata": {},
   "source": [
    "### Ejercicio 2.1\n",
    "Escriba un programa para calcular la probabilidad de obtener una suma igual a \"s\" al lanzar dos dados."
   ]
  },
  {
   "cell_type": "code",
   "execution_count": 3,
   "metadata": {},
   "outputs": [
    {
     "name": "stdout",
     "output_type": "stream",
     "text": [
      "La probablidad de obtener 15 en el lanzamiento de dos dados es 0/36\n"
     ]
    }
   ],
   "source": [
    "counter = 0\n",
    "s = 15\n",
    "\n",
    "for i in range(1,7):\n",
    "    for j in range(1,7):\n",
    "        if i+j == s:\n",
    "            counter += 1\n",
    "\n",
    "print(f\"La probablidad de obtener {s} en el lanzamiento de dos dados es {counter}/{36}\")\n"
   ]
  },
  {
   "attachments": {},
   "cell_type": "markdown",
   "metadata": {},
   "source": [
    "### Ejercicio 2.2\n",
    "Escriba un programa que determine cuántos \"quarters\", \"dimes\", \"nickels\" y \"pennies\" se requieren para devolver un cierto cambio en dólares (1 quarter = 25 centavos, 1 dime = 10 centavos, 1 nickel = 5 centavos y 1 penny = 1 centavo)"
   ]
  },
  {
   "cell_type": "code",
   "execution_count": 7,
   "metadata": {},
   "outputs": [
    {
     "name": "stdout",
     "output_type": "stream",
     "text": [
      "Número de quarters: 24\n",
      "Número de dimes: 0\n",
      "Número de nickels: 0\n",
      "Número de pennies: 1\n"
     ]
    }
   ],
   "source": [
    "quantity = 6.01\n",
    "\n",
    "quantity *= 100\n",
    "quantity = int(quantity)\n",
    "\n",
    "quarter,dime,nickel,penny = 25,10,5,1\n",
    "\n",
    "nb_quarters, nb_dimes, nb_nickels,nb_pennies = 0,0,0,0\n",
    "\n",
    "nb_quarters = quantity//quarter\n",
    "quantity = quantity%quarter\n",
    "\n",
    "nb_dimes = quantity//dime\n",
    "quantity = quantity%dime\n",
    "\n",
    "nb_nickels = quantity//nickel\n",
    "quantity = quantity%nickel\n",
    "\n",
    "nb_pennies = quantity\n",
    "\n",
    "print(f\"Número de quarters: {nb_quarters}\")\n",
    "print(f\"Número de dimes: {nb_dimes}\")\n",
    "print(f\"Número de nickels: {nb_nickels}\")\n",
    "print(f\"Número de pennies: {nb_pennies}\")"
   ]
  },
  {
   "cell_type": "code",
   "execution_count": 8,
   "metadata": {},
   "outputs": [
    {
     "name": "stdout",
     "output_type": "stream",
     "text": [
      "Comprobación: 6.01\n"
     ]
    }
   ],
   "source": [
    "changed_quantity = nb_quarters*quarter\n",
    "changed_quantity += nb_dimes*dime\n",
    "changed_quantity += nb_nickels*nickel\n",
    "changed_quantity += nb_pennies*penny\n",
    "\n",
    "print(f\"Comprobación: {changed_quantity/100}\")"
   ]
  },
  {
   "attachments": {},
   "cell_type": "markdown",
   "metadata": {},
   "source": [
    "### Ejercicio 2.3\n",
    "Escriba un programa que estime el valor de la constante $\\pi$ por el método de Monte-Carlo (nota: El método de Monte Carlo para aproximar el valor de $\\pi$ consiste en dibujar un cuadrado, y luego dibujar un círculo inscrito en este. Luego se dibujan puntos de manera aleatoria sobre la superficie dibujada) "
   ]
  },
  {
   "cell_type": "code",
   "execution_count": 1,
   "metadata": {},
   "outputs": [],
   "source": [
    "import random as rd"
   ]
  },
  {
   "cell_type": "code",
   "execution_count": 6,
   "metadata": {},
   "outputs": [
    {
     "name": "stdout",
     "output_type": "stream",
     "text": [
      "Número de puntos = 10. pi = 2.8\n",
      "Número de puntos = 100. pi = 3.04\n",
      "Número de puntos = 1000. pi = 3.244\n",
      "Número de puntos = 10000. pi = 3.1488\n",
      "Número de puntos = 100000. pi = 3.14176\n",
      "Número de puntos = 1000000. pi = 3.142932\n",
      "Número de puntos = 10000000. pi = 3.141384\n"
     ]
    }
   ],
   "source": [
    "for nb_points in [10**i for i in range(1,8)]:\n",
    "    counter = 0\n",
    "\n",
    "    for i in range(nb_points):\n",
    "        x,y = rd.random(),rd.random()\n",
    "        if x**2+y**2 <= 1:\n",
    "            counter += 1\n",
    "        \n",
    "    pi = 4*counter/nb_points\n",
    "    print(f\"Número de puntos = {nb_points}. pi = {pi}\")"
   ]
  },
  {
   "cell_type": "markdown",
   "metadata": {},
   "source": [
    "### Ejercicio 2.4"
   ]
  },
  {
   "cell_type": "markdown",
   "metadata": {},
   "source": [
    "Los números de Catalan $C_n$ son una secuencia de enteros 1,1,2,5,14,42,132... que juegan un papel importante en la mecánica cuántica y en la teoría de los sistemas desordenados. Están dados por\n",
    "\n",
    "$$\n",
    "C_0 = 1, C_{n+1} = \\frac{4n+2}{n+2}C_n\n",
    "$$\n",
    "\n",
    "Escriba un programa que imprima en orden creciente todos los números de Catalan que sean menor o igual a mil millones."
   ]
  },
  {
   "cell_type": "code",
   "execution_count": 8,
   "metadata": {},
   "outputs": [
    {
     "name": "stdout",
     "output_type": "stream",
     "text": [
      "C0 = 1\n",
      "C1 = 1\n",
      "C2 = 2\n",
      "C3 = 5\n",
      "C4 = 14\n",
      "C5 = 42\n",
      "C6 = 132\n",
      "C7 = 429\n",
      "C8 = 1430\n",
      "C9 = 4862\n",
      "C10 = 16796\n",
      "C11 = 58786\n",
      "C12 = 208012\n",
      "C13 = 742900\n",
      "C14 = 2674440\n",
      "C15 = 9694845\n",
      "C16 = 35357670\n",
      "C17 = 129644790\n",
      "C18 = 477638700\n"
     ]
    }
   ],
   "source": [
    "catalan = 1\n",
    "n = 0\n",
    "while catalan <= 10**9:\n",
    "    print(f\"C{n} = {catalan}\")\n",
    "    catalan *= (4*n+2)/(n+2)\n",
    "    catalan = int(catalan)\n",
    "    n += 1"
   ]
  },
  {
   "cell_type": "code",
   "execution_count": 1,
   "metadata": {},
   "outputs": [],
   "source": [
    "def catalan(n):\n",
    "    if n == 0:\n",
    "        result = 1\n",
    "    else:\n",
    "        nb = n-1\n",
    "        result = int(catalan(nb)*(4*nb+2)/(nb+2))\n",
    "    return result"
   ]
  },
  {
   "cell_type": "code",
   "execution_count": 4,
   "metadata": {},
   "outputs": [
    {
     "data": {
      "text/plain": [
       "477638700"
      ]
     },
     "execution_count": 4,
     "metadata": {},
     "output_type": "execute_result"
    }
   ],
   "source": [
    "catalan(18)"
   ]
  },
  {
   "cell_type": "markdown",
   "metadata": {},
   "source": [
    "### Ejercicio 2.5"
   ]
  },
  {
   "cell_type": "markdown",
   "metadata": {},
   "source": [
    "a) Cree una función para obtener el coeficiente binomial de acuerdo a la fórmula\n",
    "\n",
    "$$\n",
    "\\binom{n}{k} = \\frac{n!}{k!\\left( n-k \\right)!} = \\frac{n\\cdot \\left( n-1 \\right)\\cdot \\left( n-2 \\right)\\cdots  \\left( n-k+1 \\right)}{1\\cdot 2\\cdots k}\n",
    "$$\n",
    "\n",
    "b) Imprima diez renglones del triángulo de Pascal con ayuda de la función que definió en el inciso anterior."
   ]
  }
 ],
 "metadata": {
  "kernelspec": {
   "display_name": ".venv",
   "language": "python",
   "name": "python3"
  },
  "language_info": {
   "codemirror_mode": {
    "name": "ipython",
    "version": 3
   },
   "file_extension": ".py",
   "mimetype": "text/x-python",
   "name": "python",
   "nbconvert_exporter": "python",
   "pygments_lexer": "ipython3",
   "version": "3.11.2"
  },
  "orig_nbformat": 4
 },
 "nbformat": 4,
 "nbformat_minor": 2
}
