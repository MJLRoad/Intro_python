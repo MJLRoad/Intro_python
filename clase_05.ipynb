{
 "cells": [
  {
   "cell_type": "markdown",
   "metadata": {},
   "source": [
    "# Ejercicios"
   ]
  },
  {
   "cell_type": "markdown",
   "metadata": {},
   "source": [
    "### Ejercicio 3.1\n",
    "En la carpeta del curso usted encontrará un archivo llamado <code>sunspots.txt</code>, el cual contiene el número de manchas observadas en el sol para cada mes desde enero de 1749. El archivo contiene dos columnas de números, con la primera siendo el mes y la segunda siendo el número de manchas.\n",
    "\n",
    "1. Escriba un programa que lea los datos y haga una gráfica del número de manchas en función del tiempo.\n",
    "2. Modifique su programa para mostrar solamente los primeros 1000 puntos de datos en la gráfica.\n",
    "3. Modifique su programa un poco más para calcular y graficar el *promedio  móvil* de los datos, el cual se define como\n",
    "\n",
    "$$\n",
    "Y_{k} = \\frac{1}{2r+1}\\sum_{m=-r}^{r}y_{k+m}\n",
    "$$\n",
    "\n",
    "con $r = 5$ en este caso (y siendo $y_k$ los números de manchas). Grafique los datos originales y el promedio móvil en la misma gráfica, de nuevo en el rango de los primeros 1000 puntos de datos."
   ]
  },
  {
   "cell_type": "markdown",
   "metadata": {},
   "source": [
    "### Ejercicio 3.2\n",
    "Aunque la función <code>plot</code> está diseñada principalmente para hacer gráficos $xy$ estándar, también se puede adaptar para realizar otros tipos de gráficos.\n",
    "\n",
    "1. Haga una gráfica de la que se conoce como curva *deltoide*, la cual se define de forma paramétrica mediante las ecuaciones\n",
    "$$\n",
    "x = 2 \\cos \\theta + \\cos 2 \\theta, \\quad y = 2 \\sin \\theta - \\sin 2 \\theta\n",
    "$$\n",
    "donde $0 \\le \\theta \\le 2\\pi$. Tome un conjunto de valores de $\\theta$ entre cero y $2\\pi$ y calcule $x$ y $y$ para cada valor con las ecuaciones de arriba, luego grafique $y$ en función de $x$.\n",
    "\n",
    "2. Tomando este método un paso más allá, podemos hacer una gráfica polar $r=f\\left(\\theta\\right)$ para alguna función $f$ al calcular $r$ sobre un rango de valores de $\\theta$ y luego convertir $r$ y $\\theta$ a coordenadas cartesianas usando las ecuaciones estándar $x = r \\cos \\theta$, $y = r \\sin \\theta$. Use este método para hacer una gráfica de la espiral galileana $r = \\theta^2$ para $0 \\le \\theta \\le 10\\pi$.\n",
    "\n",
    "3. Usando el mismo método, haga una gráfica polar de la \"función de Fey\"\n",
    "$$\n",
    "r = e^{\\cos \\theta} - 2 \\cos 4\\theta + \\sin^{5} \\frac{\\theta}{12}\n",
    "$$\n",
    "en el rango $0 \\le \\theta \\le 24\\pi$."
   ]
  },
  {
   "cell_type": "markdown",
   "metadata": {},
   "source": [
    "### Ejercicio 3.3\n",
    "\n",
    "Elabore el [**diagrama de Hertzsprung-Russell**](https://es.wikipedia.org/wiki/Diagrama_de_Hertzsprung-Russell), el cual es una gráfica de dispersión de la magnitud (i.e. brillo) de las estrellas vs su temperatura superficial aproximada. Cada punto del diagrama representa a una estrella de un catálogo de 7860 estrellas cercanas a nuestro sistema solar."
   ]
  },
  {
   "cell_type": "markdown",
   "metadata": {},
   "source": []
  }
 ],
 "metadata": {
  "language_info": {
   "name": "python"
  }
 },
 "nbformat": 4,
 "nbformat_minor": 2
}
