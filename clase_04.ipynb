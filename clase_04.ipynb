{
 "cells": [
  {
   "cell_type": "markdown",
   "metadata": {},
   "source": [
    "# Gráficas y visualizaciones"
   ]
  },
  {
   "cell_type": "markdown",
   "metadata": {},
   "source": [
    "Algunos paquetes en python incluyen códigos para hacer visualizaciones. En esta sesión utilizaremos la librería <code>matplotlib</code>, la cual contiene funciones para generar gráficos de diferentes tipos. En esta sesión nos enfocaremos en dos tipos de visualizaciones: gráficas y diagramas de dispersión."
   ]
  },
  {
   "cell_type": "markdown",
   "metadata": {},
   "source": [
    "## 3.1 Gráficas"
   ]
  },
  {
   "cell_type": "markdown",
   "metadata": {},
   "source": [
    "Para crear una gráfica ordinaria en python usamos la función <code>plot</code> de la librería <code>matplotlib.pyplot</code>. En el caso más sencillo, esta función toma un argumento, el cual es una lista o arreglo de los valores que queremos graficar,"
   ]
  },
  {
   "cell_type": "code",
   "execution_count": null,
   "metadata": {},
   "outputs": [],
   "source": [
    "import matplotlib.pyplot as plt\n",
    "import numpy as np\n",
    "\n",
    "y = [1.0, 2.4, 1.7, 0.3, 0.6, 1.8]\n",
    "plt.plot(y)\n",
    "plt.show()"
   ]
  },
  {
   "cell_type": "markdown",
   "metadata": {},
   "source": [
    "Estos comandos grafican los valores de la lista <code>y</code> en intervalos unitarios a lo largo del eje x (comenzando desde cero), y los une con líneas rectas."
   ]
  },
  {
   "cell_type": "markdown",
   "metadata": {},
   "source": [
    "Es posible especificar tanto las coordenadas $x$ como las coordenadas $y$ para los puntos en una gráfica. Esto lo podemos hacer usando la función <code>plot</code> con dos listas como argumentos,"
   ]
  },
  {
   "cell_type": "code",
   "execution_count": null,
   "metadata": {},
   "outputs": [],
   "source": [
    "x = [0.5, 1.0, 2.0, 4.0, 7.0, 10.0]\n",
    "y = [1.0, 2.4, 1.7, 0.3, 0.6, 1.8] # Las dos listas deben tener el mismo número de entradas\n",
    "\n",
    "plt.plot(x,y)\n",
    "plt.show()"
   ]
  },
  {
   "cell_type": "markdown",
   "metadata": {},
   "source": [
    "Es posible graficar dos o más curvas en la misma gráfica usando el comando <code>plot</code> dos o más veces, una vez para cada curva, y luego usando la función <code>show</code> para mostrar una sola gráfica con todas las curvas,"
   ]
  },
  {
   "cell_type": "code",
   "execution_count": null,
   "metadata": {},
   "outputs": [],
   "source": [
    "x = [0.5, 1.0, 2.0, 4.0, 7.0, 10.0]\n",
    "y = [1.0, 2.4, 1.7, 0.3, 0.6, 1.8] \n",
    "\n",
    "plt.plot(x,y)\n",
    "plt.plot(x,x)\n",
    "plt.show()"
   ]
  },
  {
   "cell_type": "markdown",
   "metadata": {},
   "source": [
    "A continuación creamos una gráfica más interesante, una gráfica de la función seno de $x = 0$ a $x = 10$. Para ello creamos un arreglo con valores de $x$ y tomamos el seno de esos valores para obtener las coordenadas $y$ de los puntos,"
   ]
  },
  {
   "cell_type": "code",
   "execution_count": null,
   "metadata": {},
   "outputs": [],
   "source": [
    "x = np.linspace(start=0.0, stop=10.0, num=100)\n",
    "y = np.sin(x)\n",
    "\n",
    "plt.plot(x,y)\n",
    "plt.show()"
   ]
  },
  {
   "cell_type": "markdown",
   "metadata": {},
   "source": [
    "Como otro ejemplo del uso de la función <code>plot</code>, suponga que tiene algunos datos experimentales en un archivo de computadora, almacenados en dos columnas, como por ejemplo"
   ]
  },
  {
   "cell_type": "code",
   "execution_count": 6,
   "metadata": {},
   "outputs": [
    {
     "data": {
      "text/plain": [
       "array([[5.48740e+14, 5.30900e-01],\n",
       "       [6.93100e+14, 1.08420e+00],\n",
       "       [7.43070e+14, 1.27340e+00],\n",
       "       [8.21930e+14, 1.65980e+00],\n",
       "       [9.60740e+14, 2.19856e+00],\n",
       "       [1.18400e+15, 3.10891e+00]])"
      ]
     },
     "execution_count": 6,
     "metadata": {},
     "output_type": "execute_result"
    }
   ],
   "source": [
    "data = np.loadtxt(\"millikan.txt\", float)\n",
    "data"
   ]
  },
  {
   "cell_type": "markdown",
   "metadata": {},
   "source": [
    "Podemos hacer un gráfico con esos datos de la siguiente forma,"
   ]
  },
  {
   "cell_type": "code",
   "execution_count": null,
   "metadata": {},
   "outputs": [],
   "source": [
    "x = data[:,0]\n",
    "y = data[:,1] # Ejemplos de \"slicing\"\n",
    "\n",
    "plt.plot(x,y)\n",
    "plt.show()"
   ]
  },
  {
   "cell_type": "markdown",
   "metadata": {},
   "source": [
    "A menudo sucede que no sabemos de antemano todos los valores $x$ o $y$ para una gráfica, sino que hay qué obtenerlos de uno en uno como parte de algún cálculo que estemos realizando. En ese caso, una manera de crear una gráfica de los resultados es empezar con dos listas vacías para las coordenadas $x$ e $y$, y añadir puntos uno a uno al ir calculándolos. Como ejemplo, grafiquemos la función seno de la siguiente forma alternativa,"
   ]
  },
  {
   "cell_type": "code",
   "execution_count": null,
   "metadata": {},
   "outputs": [],
   "source": [
    "from math import sin\n",
    "\n",
    "xpoints,ypoints = [],[]\n",
    "for x in np.linspace(0,10,100):\n",
    "    xpoints.append(x)\n",
    "    ypoints.append(sin(x))\n",
    "\n",
    "plt.plot(xpoints,ypoints)\n",
    "plt.show()"
   ]
  },
  {
   "cell_type": "markdown",
   "metadata": {},
   "source": [
    "Podemos añadir opciones extra a nuestras gráficas. Por ejemplo, podemos añadir más espacio arriba y abajo para que nuestra gráfica se vea mejor,"
   ]
  },
  {
   "cell_type": "code",
   "execution_count": null,
   "metadata": {},
   "outputs": [],
   "source": [
    "x = np.linspace(start=0.0, stop=10.0, num=100)\n",
    "y = np.sin(x)\n",
    "\n",
    "plt.plot(x,y)\n",
    "#plt.ylim(-1.2,1.2)\n",
    "plt.show()"
   ]
  },
  {
   "cell_type": "markdown",
   "metadata": {},
   "source": [
    "podemos añadir etiquetas a los ejes,"
   ]
  },
  {
   "cell_type": "code",
   "execution_count": null,
   "metadata": {},
   "outputs": [],
   "source": [
    "plt.plot(x,y)\n",
    "plt.xlabel(r\"$x$\")\n",
    "plt.ylabel(r\"$y = \\sin \\left(x\\right)$\")\n",
    "plt.show()"
   ]
  },
  {
   "cell_type": "markdown",
   "metadata": {},
   "source": [
    "También podemos cambiar el estilo con que se dibuja la gráfica,"
   ]
  },
  {
   "cell_type": "code",
   "execution_count": null,
   "metadata": {},
   "outputs": [],
   "source": [
    "plt.plot(x, y, color='black', marker=\"o\")\n",
    "plt.xlabel(r\"$x$\")\n",
    "plt.ylabel(r\"$y = \\sin \\left(x\\right)$\")\n",
    "plt.show()"
   ]
  },
  {
   "cell_type": "markdown",
   "metadata": {},
   "source": [
    "y podemos dibujar curvas con diferentes estilos de línea, cada una con su etiqueta,"
   ]
  },
  {
   "cell_type": "code",
   "execution_count": null,
   "metadata": {},
   "outputs": [],
   "source": [
    "x = np.linspace(start=0.0, stop=10.0, num=100)\n",
    "y1 = np.sin(x)\n",
    "y2 = np.cos(x)\n",
    "\n",
    "plt.plot(x, y1, color='red', linestyle=\"-\", label=\"sin\")\n",
    "plt.plot(x, y2, color='blue', linestyle=\"--\", label=\"cos\")\n",
    "plt.xlabel(r\"$x$\")\n",
    "plt.ylabel(r\"$y$\")\n",
    "plt.legend()\n",
    "plt.show()"
   ]
  },
  {
   "cell_type": "markdown",
   "metadata": {},
   "source": [
    "Existen muchas más variaciones y estilos disponibles en la librería <code>matplotlib.pyplot</code>. Se pueden añadir anotaciones a las gráficas. Se puede cambiar el color, tamaño o tipo de letra de las etiquetas. Es posible cambiar el color o estilo de los ejes, o añadir un color de fondo a la gráfica. Estas y otras posibilidades más se describen en [la documentación](https://matplotlib.org/stable/tutorials/pyplot.html)."
   ]
  },
  {
   "cell_type": "markdown",
   "metadata": {},
   "source": [
    "## 3.2 Gráficas de dispersión"
   ]
  },
  {
   "cell_type": "markdown",
   "metadata": {},
   "source": [
    "En las gráficas ordinarias de la sección anterior tenemos representaciones visuales de cómo varía una variable dependiente $y$ en función de una variable independiente $x$. Sin embargo, hay otros casos en los que se miden dos variables dependientes. Un ejemplo de ello en astronomía es la temperatura y brillo de las estrellas. Para estos casos de dos variables dependientes se usan las *gráficas de dispersión*, en las cuales las dos cantidades se ubican a lo largo de los ejes y se hace un punto en la gráfica para cada par de mediciones.\n",
    "\n",
    "Existen dos maneras diferentes de hacer gráficas de dispersión con la función <code>plot</code>,"
   ]
  },
  {
   "cell_type": "code",
   "execution_count": 29,
   "metadata": {},
   "outputs": [],
   "source": [
    "import matplotlib.pyplot as plt\n",
    "import numpy as np\n",
    "\n",
    "x = np.linspace(start=0.0, stop=10.0, num=100)\n",
    "y1 = np.sin(x)\n",
    "y2 = np.cos(x)"
   ]
  },
  {
   "cell_type": "code",
   "execution_count": null,
   "metadata": {},
   "outputs": [],
   "source": [
    "plt.plot(y1, y2, color='black', marker=\"o\", linewidth=0)\n",
    "#plt.plot(y1, y2, 'ko')\n",
    "plt.show()"
   ]
  },
  {
   "cell_type": "code",
   "execution_count": null,
   "metadata": {},
   "outputs": [],
   "source": [
    "plt.plot(y1, y2, color='black', marker=\".\", linewidth=0)\n",
    "#plt.plot(y1, y2, 'k.')\n",
    "plt.show()"
   ]
  },
  {
   "cell_type": "markdown",
   "metadata": {},
   "source": [
    "De manera alternativa, la librería <code>matplotlib.pyplot</code> nos proporciona la función <code>scatter</code>, que está diseñada específicamente para hacer gráficas de dispersión. A continuación un ejemplo:"
   ]
  },
  {
   "cell_type": "code",
   "execution_count": null,
   "metadata": {},
   "outputs": [],
   "source": [
    "y3 = np.cos(3*x)\n",
    "\n",
    "plt.scatter(y1,y3)\n",
    "plt.show()"
   ]
  },
  {
   "cell_type": "markdown",
   "metadata": {},
   "source": [
    "Muchas de las opciones que se añaden a las gráficas elaboradas con la función <code>plot</code> también se pueden añadir a las gráficas creadas con <code>scatter</code>; también es posible usar cualquier combinación de funciones <code>scatter</code> y <code>plot</code> para dibujar gráficas simples y gráficas de dispersión en un solo diagrama."
   ]
  }
 ],
 "metadata": {
  "kernelspec": {
   "display_name": ".venv",
   "language": "python",
   "name": "python3"
  },
  "language_info": {
   "codemirror_mode": {
    "name": "ipython",
    "version": 3
   },
   "file_extension": ".py",
   "mimetype": "text/x-python",
   "name": "python",
   "nbconvert_exporter": "python",
   "pygments_lexer": "ipython3",
   "version": "3.11.2"
  }
 },
 "nbformat": 4,
 "nbformat_minor": 2
}
