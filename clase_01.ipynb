{
 "cells": [
  {
   "attachments": {},
   "cell_type": "markdown",
   "metadata": {},
   "source": [
    "# Introducción"
   ]
  },
  {
   "attachments": {},
   "cell_type": "markdown",
   "metadata": {},
   "source": [
    "## 1.1 Números y variables en Python"
   ]
  },
  {
   "attachments": {},
   "cell_type": "markdown",
   "metadata": {},
   "source": [
    "### 1.1.1 Inicio"
   ]
  },
  {
   "attachments": {},
   "cell_type": "markdown",
   "metadata": {},
   "source": [
    "Las cantidades de interés en un programa, que en física generalmente significan números o conjuntos de números como vectores o matrices, están representadas por variables, que desempeñan aproximadamente el mismo papel que en el álgebra ordinaria. Nuestro primer ejemplo de una declaración de programa en Python es este:"
   ]
  },
  {
   "cell_type": "code",
   "execution_count": null,
   "metadata": {},
   "outputs": [],
   "source": [
    "x = 1 #sentencia de asignación\n",
    "print(x)"
   ]
  },
  {
   "attachments": {},
   "cell_type": "markdown",
   "metadata": {},
   "source": [
    "Los nombres de las variables pueden ser tan largos como se desee, y pueden contener letras y números, así como el símbolo \"_\", pero deben cumplir ciertas reglas. Algunos ejemplos:\n",
    "\n",
    "* <code>X</code> ✓\n",
    "* <code>21days</code> ✖ (no puede empezar con un número)\n",
    "* <code>February2019</code> ✓\n",
    "* <code>r&d</code> ✖ (\"&\" está reservado como operador)\n",
    "* <code>sales_report</code> ✓\n",
    "* <code>_num</code> ✓\n",
    "* <code>true</code> ✖ (Keyword en Python)\n",
    "\n",
    "Los programas suelen llegar a tener un gran número de variables, por lo que se recomienda darles nombres significativos que describan lo que representan (por ejemplo <code>velocity</code> o <code>algorithmic_complexity</code>)."
   ]
  },
  {
   "attachments": {},
   "cell_type": "markdown",
   "metadata": {},
   "source": [
    "### 1.1.2 Tipos de variables"
   ]
  },
  {
   "attachments": {},
   "cell_type": "markdown",
   "metadata": {},
   "source": [
    "Las variables vienen en varios tipos. Las variables de diferentes tipos almacenan diferentes tipos de cantidades u objetos. Los principales tipos que se usan son los siguientes:\n",
    "\n",
    "* Enteros (p. ej. 1,0, ó -28723)\n",
    "* De punto flotante (p. ej. 3.14159, $-6.63 \\times 10^{-34}$ ó 1.0)\n",
    "* Complejos (p. ej. 1+2j, -3.5-0.4j, etc.)\n",
    "* Cadenas de caracteres (p. ej. \"this is your solution\")\n",
    "\n",
    "El tipo de variable que se recomienda usar depende del tipo de cantidad que se vaya a manejar. Por ejemplo, si se tiene una cantidad entera, hay qué usar una variable entera. De manera más general, cada vez que crea una variable para representar una cantidad en un programa, piense qué tipo de valor tomará esa cantidad y elija el tipo de variable que coincida."
   ]
  },
  {
   "attachments": {},
   "cell_type": "markdown",
   "metadata": {},
   "source": [
    "El tipo de una variable se establece mediante el valor que le asignamos, y puede cambiar mientras el programa corre. Por ejemplo,"
   ]
  },
  {
   "cell_type": "code",
   "execution_count": 2,
   "metadata": {},
   "outputs": [],
   "source": [
    "x = 1\n",
    "x = 1.5e34"
   ]
  },
  {
   "attachments": {},
   "cell_type": "markdown",
   "metadata": {},
   "source": [
    "Sin embargo, aunque puede cambiar los tipos de variables de esta manera, no significa que deba hacerlo. Se considera mala programación usar la misma variable como dos tipos diferentes en un solo programa, porque hace que el programa sea significativamente más difícil de seguir y aumenta la posibilidad de que pueda cometer un error en su programación."
   ]
  },
  {
   "attachments": {},
   "cell_type": "markdown",
   "metadata": {},
   "source": [
    "### 1.1.3 Declaraciones de salida y de entrada"
   ]
  },
  {
   "attachments": {},
   "cell_type": "markdown",
   "metadata": {},
   "source": [
    "Ya hemos visto un ejemplo de una declaración de salida:"
   ]
  },
  {
   "cell_type": "code",
   "execution_count": null,
   "metadata": {},
   "outputs": [],
   "source": [
    "y = 1.3\n",
    "print(y)"
   ]
  },
  {
   "attachments": {},
   "cell_type": "markdown",
   "metadata": {},
   "source": [
    "La sentencia <code>print</code> imprime el valor actual de la variable en el momento que se ejecuta. Por ejemplo, "
   ]
  },
  {
   "cell_type": "code",
   "execution_count": null,
   "metadata": {},
   "outputs": [],
   "source": [
    "x = 1\n",
    "print(x)\n",
    "x = x + 1\n",
    "print(x)"
   ]
  },
  {
   "attachments": {},
   "cell_type": "markdown",
   "metadata": {},
   "source": [
    "La declaración de impresión se puede usar para imprimir más de una cosa en una línea. Considere este programa:"
   ]
  },
  {
   "cell_type": "code",
   "execution_count": null,
   "metadata": {},
   "outputs": [],
   "source": [
    "print(x,y)"
   ]
  },
  {
   "attachments": {},
   "cell_type": "markdown",
   "metadata": {},
   "source": [
    "También podemos imprimir frases con valores numéricos mediante formateo:"
   ]
  },
  {
   "cell_type": "code",
   "execution_count": null,
   "metadata": {},
   "outputs": [],
   "source": [
    "print(f\"El valor de x es {x} y el valor de y es {y}\")"
   ]
  },
  {
   "attachments": {},
   "cell_type": "markdown",
   "metadata": {},
   "source": [
    "Las declaraciones de entrada (o input) son algo más complicadas. La forma básica es:"
   ]
  },
  {
   "cell_type": "code",
   "execution_count": null,
   "metadata": {},
   "outputs": [],
   "source": [
    "x = input(\"Introducir el valor de x: \") #el argumento string es opcional\n",
    "print(f\"El valor de x es {x}\")"
   ]
  },
  {
   "cell_type": "code",
   "execution_count": null,
   "metadata": {},
   "outputs": [],
   "source": [
    "type(x)"
   ]
  },
  {
   "attachments": {},
   "cell_type": "markdown",
   "metadata": {},
   "source": [
    "En lo que concierne a la computadora, cualquier cosa que introduzcamos con la declaración <code>input</code> es una cadena de caracteres. Para guardar un input como número, hay qué transformarlo al tipo de variable más adecuado:"
   ]
  },
  {
   "cell_type": "code",
   "execution_count": null,
   "metadata": {},
   "outputs": [],
   "source": [
    "temp = input(\"Introduce el valor de x: \")\n",
    "x = float(temp)\n",
    "print(f\"El valor de x - 1 es {x-1.0}\")"
   ]
  },
  {
   "cell_type": "code",
   "execution_count": null,
   "metadata": {},
   "outputs": [],
   "source": [
    "type(x)"
   ]
  },
  {
   "attachments": {},
   "cell_type": "markdown",
   "metadata": {},
   "source": [
    "O de manera más sucinta,"
   ]
  },
  {
   "cell_type": "code",
   "execution_count": null,
   "metadata": {},
   "outputs": [],
   "source": [
    "x = int(input(\"Introduce el valor de x: \"))\n",
    "print(f\"El valor de x - 1 es {x-1.0}\")\n",
    "# Qué pasa si introducimos un valor equivocado? (p. ej. un string)"
   ]
  },
  {
   "attachments": {},
   "cell_type": "markdown",
   "metadata": {},
   "source": [
    "### 1.1.4 Aritmética"
   ]
  },
  {
   "attachments": {},
   "cell_type": "markdown",
   "metadata": {},
   "source": [
    "La función <code>print</code> también puede admitir expresiones matemáticas tales como"
   ]
  },
  {
   "cell_type": "code",
   "execution_count": null,
   "metadata": {},
   "outputs": [],
   "source": [
    "x = 1\n",
    "y = 2.0\n",
    "print(x+y)"
   ]
  },
  {
   "attachments": {},
   "cell_type": "markdown",
   "metadata": {},
   "source": [
    "Las operaciones matemáticas básicas se escriben de la siguiente manera:\n",
    "\n",
    "* <code>x+y</code> suma\n",
    "* <code>x-y</code> resta\n",
    "* <code>x*y</code> multiplicación\n",
    "* <code>x/y</code> división\n",
    "* <code>x**y</code> elevar $x$ a la potencia $y$\n",
    "* <code>x//y</code> la parte entera de $x$ dividido entre $y$\n",
    "* <code>x%y</code> módulo, i.e., el residuo de $x$ después de ser dividido entre $y$\n",
    "\n",
    "Es posible combinar varias operaciones matemáticas para elaborar una epresión más complicada, tal como <code>x + 2*y - z/3</code>. Las operaciones van a obedecer reglas similares a las del álgebra normal. También se pueden usar paréntesis para alterar el orden de las evaluaciones. Ejemplo:"
   ]
  },
  {
   "cell_type": "code",
   "execution_count": null,
   "metadata": {},
   "outputs": [],
   "source": [
    "x = 1\n",
    "y = 2\n",
    "z = 3\n",
    "\n",
    "#print(x + 2*y - z/3)\n",
    "print((x + 2*y - z)/3)"
   ]
  },
  {
   "attachments": {},
   "cell_type": "markdown",
   "metadata": {},
   "source": [
    "Hay un conjunto de trucos para actualizar variables, se les conoce como <i>modificadores de Python</i> y son\n",
    "\n",
    "* <code>x += 1</code> (equivale a <code>x = x + 1</code>)\n",
    "* <code>x -= 3</code> (equivale a <code>x = x - 3</code>)\n",
    "* <code>x * = -2.5</code> (equivale a <code>x = x* (-2.5)<code>)\n",
    "* <code>x /= 5*y</code> (equivale a <code>x = x/(5*y)</code>)\n",
    "* <code>x //= 5.4</code> (equivale a <code>x = x//(3.4)</code>)"
   ]
  },
  {
   "attachments": {},
   "cell_type": "markdown",
   "metadata": {},
   "source": [
    "Por último, es posible hacer asignaciones múltiples en una sola linea. Ejemplos:"
   ]
  },
  {
   "cell_type": "code",
   "execution_count": null,
   "metadata": {},
   "outputs": [],
   "source": [
    "x,y,z = 1,2,3\n",
    "print(x)\n",
    "print(y)\n",
    "print(z)"
   ]
  },
  {
   "cell_type": "code",
   "execution_count": null,
   "metadata": {},
   "outputs": [],
   "source": [
    "x,y = y,x\n",
    "print(x)\n",
    "print(y)"
   ]
  },
  {
   "cell_type": "markdown",
   "metadata": {},
   "source": [
    "### Ejercicio 1.1.1\n"
   ]
  },
  {
   "cell_type": "markdown",
   "metadata": {},
   "source": [
    "Un satélite va a ser lanzado en una órbita circular alrededor de la tierra de tal manera que orbite al planeta una vez cada $T$ segundos. La altitud $h$ por encima de la superficie de la tierra que debe tener el satélite es\n",
    "\n",
    "$$\n",
    "h = \\left(\\frac{G M T^{2}}{4 \\pi^{2}}\\right)^{1/3}-R\n",
    "$$\n",
    "\n",
    "donde $G = 6.67 \\times 10^{-11} \\textrm{m}^{3}\\textrm{kg}^{-1}\\textrm{s}^{-2}$ es la constante gravitacional, $M = 5.97 \\times 10^{24} \\textrm{kg}$ es la masa de la tierra, y $R = 6371 \\textrm{km}$ es su radio.\n",
    "\n",
    "1. Escribir un programa que le pida al usuario que ingrese el valor deseado de $T$, y que luego calcule e imprima la altitud correcta en metros.\n",
    "2. Usar el programa para calcular las altitudes de los satélites que orbitan la tierra una vez al día (lo que se conoce como órbita \"geosíncrona\"), una vez cada 90 minutos, y una vez cada 45 minutos. ¿Qué se puede concluir a partir del último de estos cálculos?\n",
    "3. Técnicamente, un satélite geosíncrono es uno que orbita la tierra una vez cada *día sideral*, el cual dura 23.93 horas. ¿A qué se debe esto? ¿Y cuál es la diferencia en altura con respecto al satélite que orbita la tierra una vez cada 24 horas?"
   ]
  },
  {
   "cell_type": "markdown",
   "metadata": {},
   "source": [
    "#### Solución"
   ]
  },
  {
   "cell_type": "code",
   "execution_count": null,
   "metadata": {},
   "outputs": [],
   "source": [
    "#declarar constantes\n",
    "from math import pi\n",
    "G = 6.67e-11\n",
    "M = 5.97e24\n",
    "R = 6371e3\n",
    "#introducir input\n",
    "T = float(input(\"Introducir el valor de T en horas: \"))\n",
    "T *= 60*60 #transforma T a segundos\n",
    "#crear funcion que calcule h\n",
    "h = ((G*M*T**2)/(4*pi**2))**(1/3) - R\n",
    "#imprimir\n",
    "print(f\"Período (en minutos): {T/60} mins\")\n",
    "print(f\"La altitud en metros debe ser {h}m\")"
   ]
  },
  {
   "attachments": {},
   "cell_type": "markdown",
   "metadata": {},
   "source": [
    "## 1.2 Funciones incorporadas, paquetes y módulos"
   ]
  },
  {
   "attachments": {},
   "cell_type": "markdown",
   "metadata": {},
   "source": [
    "### 1.2.1 Funciones incorporadas"
   ]
  },
  {
   "attachments": {},
   "cell_type": "markdown",
   "metadata": {},
   "source": [
    "Existe un número pequeño de funciones en Python, llamadas <i>funciones incorporadas</i>, las cuales están siempre disponibles. Un ejemplo ya visto es la función <code>float</code>:"
   ]
  },
  {
   "cell_type": "code",
   "execution_count": null,
   "metadata": {},
   "outputs": [],
   "source": [
    "x = float(1)\n",
    "x"
   ]
  },
  {
   "attachments": {},
   "cell_type": "markdown",
   "metadata": {},
   "source": [
    "Otras funciones similares son \n",
    "* <code>int</code> (convierte a entero)\n",
    "* <code>complex</code> (convierte a complejo)\n",
    "* <code>abs</code> (valor absoluto)"
   ]
  },
  {
   "attachments": {},
   "cell_type": "markdown",
   "metadata": {},
   "source": [
    "Ya antes habíamos usado funciones incorporadas, <code>input</code> y <code>print</code>, que no son funciones matemáticas pero, en lo que concierne a la computadora, siguen siendo funciones. Considere por ejemplo la declaración"
   ]
  },
  {
   "cell_type": "code",
   "execution_count": 27,
   "metadata": {},
   "outputs": [],
   "source": [
    "x = input(\"Introduzca el valor de x: \")"
   ]
  },
  {
   "attachments": {},
   "cell_type": "markdown",
   "metadata": {},
   "source": [
    "Aquí la función toma como argumento la cadena de caracteres, la imprime, espera que el usuario escriba algo en respuesta y asigna ese algo a <code>x</code>. La función <code>print</code> es un poco diferente ya que no genera ningún valor. Algunas veces necesitaremos una función para hacer algo sin tener qué generar un valor."
   ]
  },
  {
   "attachments": {},
   "cell_type": "markdown",
   "metadata": {},
   "source": [
    "### 1.2.2 Paquetes y módulos"
   ]
  },
  {
   "attachments": {},
   "cell_type": "markdown",
   "metadata": {},
   "source": [
    "Hay muchas operaciones que uno podría querer realizar en un programa, que son más complicadas que la aritmética simple, como\n",
    "* multiplicar matrices \n",
    "* calcular un logaritmo\n",
    "* hacer un gráfico. \n",
    "\n",
    "Python viene con facilidades para hacer cada una de estas y muchas otras tareas comunes fácil y rápidamente. Estas instalaciones se dividen en <b>paquetes</b> (colecciones de cosas útiles relacionadas) y cada paquete tiene un nombre por el cual puede referirse a él. Por ejemplo, todas las funciones matemáticas estándar se encuentran contenidas en un paquete llamado <code>math</code>. Por ejemplo, para usar la función logaritmo,"
   ]
  },
  {
   "cell_type": "code",
   "execution_count": null,
   "metadata": {},
   "outputs": [],
   "source": [
    "from math import log,e\n",
    "\n",
    "print(log(100,e))"
   ]
  },
  {
   "attachments": {},
   "cell_type": "markdown",
   "metadata": {},
   "source": [
    "En algunos casos, es posible que desee utilizar más de una función del mismo paquete en un programa,"
   ]
  },
  {
   "cell_type": "code",
   "execution_count": null,
   "metadata": {},
   "outputs": [],
   "source": [
    "from math import pi, sin, exp\n",
    "\n",
    "print(exp(sin(pi)))"
   ]
  },
  {
   "attachments": {},
   "cell_type": "markdown",
   "metadata": {},
   "source": [
    "También puede importar todas las funciones en un paquete con una declaración de la forma"
   ]
  },
  {
   "cell_type": "code",
   "execution_count": null,
   "metadata": {},
   "outputs": [],
   "source": [
    "from math import *\n",
    "\n",
    "print(cos(pi)**5)"
   ]
  },
  {
   "attachments": {},
   "cell_type": "markdown",
   "metadata": {},
   "source": [
    "Pero no se recomienda mucho hacerlo, ya que las funciones importadas pueden entrar en conflicto con otras funciones o importaciones previas, o con otros paquetes cargados previamente. Una mejor manera de importar un paquete es mediante un <i>alias</i>. Por ejemplo,"
   ]
  },
  {
   "cell_type": "code",
   "execution_count": 32,
   "metadata": {},
   "outputs": [],
   "source": [
    "import random as rd"
   ]
  },
  {
   "cell_type": "code",
   "execution_count": null,
   "metadata": {},
   "outputs": [],
   "source": [
    "print(rd.uniform(-1,1))\n",
    "print(rd.random())"
   ]
  },
  {
   "cell_type": "code",
   "execution_count": null,
   "metadata": {},
   "outputs": [],
   "source": [
    "import matplotlib.pyplot as plt\n",
    "\n",
    "plt.plot([1, 2, 3, 4])\n",
    "plt.ylabel('some numbers')\n",
    "plt.xlabel(\"N\")\n",
    "plt.show()"
   ]
  },
  {
   "attachments": {},
   "cell_type": "markdown",
   "metadata": {},
   "source": [
    "## 1.3 Declaraciones de comentario"
   ]
  },
  {
   "attachments": {},
   "cell_type": "markdown",
   "metadata": {},
   "source": [
    "En Python, cualquier linea que comience con un <code>#</code> es ignorada completamente por la computadora. Dichas lineas se denominan comentarios. Un ejemplo:"
   ]
  },
  {
   "cell_type": "code",
   "execution_count": 39,
   "metadata": {},
   "outputs": [],
   "source": [
    "nb_cases = 6*6 #este es el número de casos posibles para el lanzamiento de dos dados \n",
    "nb_succeses = 0 #Inicializamos el contador de casos de éxito en cero"
   ]
  },
  {
   "attachments": {},
   "cell_type": "markdown",
   "metadata": {},
   "source": [
    "Tal vez los comentarios parezcan innecesarios para programas cortos como aquel, pero cuando se creen programas más grandes, va a ser muy util hacer comentarios para recordar cómo trabaja nuestro código en un futuro. Incluso los comentarios se vuelven más importantes si alguien más va a utilizar nuestro programa y necesita entenderlo."
   ]
  }
 ],
 "metadata": {
  "kernelspec": {
   "display_name": ".venv",
   "language": "python",
   "name": "python3"
  },
  "language_info": {
   "codemirror_mode": {
    "name": "ipython",
    "version": 3
   },
   "file_extension": ".py",
   "mimetype": "text/x-python",
   "name": "python",
   "nbconvert_exporter": "python",
   "pygments_lexer": "ipython3",
   "version": "3.11.2"
  },
  "orig_nbformat": 4
 },
 "nbformat": 4,
 "nbformat_minor": 2
}
